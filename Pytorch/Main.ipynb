{
 "cells": [
  {
   "cell_type": "code",
   "id": "initial_id",
   "metadata": {
    "collapsed": true,
    "ExecuteTime": {
     "end_time": "2024-08-25T20:19:44.595884Z",
     "start_time": "2024-08-25T20:19:42.971341Z"
    }
   },
   "source": [
    "from pandas import read_csv\n",
    "import cv2 \n",
    "import numpy as np\n",
    "from tqdm import tqdm\n",
    "from sklearn.model_selection  import train_test_split #用于数据集划分\n",
    "from sklearn.metrics import accuracy_score  #用于计算正确率\n"
   ],
   "outputs": [],
   "execution_count": 1
  },
  {
   "metadata": {
    "ExecuteTime": {
     "end_time": "2024-08-25T20:19:44.627805Z",
     "start_time": "2024-08-25T20:19:44.596737Z"
    }
   },
   "cell_type": "code",
   "source": [
    "filename=\"data/labels.csv\"\n",
    "labelsNames=[\"id\",\"breed\"]\n",
    "labels=read_csv(filename,names=labelsNames)\n",
    "print(labels.shape)"
   ],
   "id": "616477ceb4a667ad",
   "outputs": [
    {
     "name": "stdout",
     "output_type": "stream",
     "text": [
      "(12001, 2)\n"
     ]
    }
   ],
   "execution_count": 2
  },
  {
   "metadata": {
    "ExecuteTime": {
     "end_time": "2024-08-25T20:19:44.644065Z",
     "start_time": "2024-08-25T20:19:44.628872Z"
    }
   },
   "cell_type": "code",
   "source": [
    "label_list=labels[\"breed\"].tolist()\n",
    "label_list = label_list[1:]"
   ],
   "id": "755b92c9198cbb32",
   "outputs": [],
   "execution_count": 3
  },
  {
   "metadata": {
    "ExecuteTime": {
     "end_time": "2024-08-25T20:19:44.659803Z",
     "start_time": "2024-08-25T20:19:44.644065Z"
    }
   },
   "cell_type": "code",
   "source": [
    "\n",
    "def extractFeaturesFromImage(image_file):\n",
    "        img = cv2.imread(image_file)#读取图片\n",
    "        img = cv2.resize(img, (400,400), interpolation=cv2.INTER_CUBIC)\n",
    "        #对图片进行resize操作统一大小\n",
    "        img = img.flatten()#对图像进行降维操作，方便算法计算\n",
    "        img = img / np.mean(img)#归一化，突出特征\n",
    "        return img\n"
   ],
   "id": "8cefd065e1a4b887",
   "outputs": [],
   "execution_count": 4
  },
  {
   "metadata": {
    "ExecuteTime": {
     "end_time": "2024-08-25T20:20:36.043202Z",
     "start_time": "2024-08-25T20:19:44.660948Z"
    }
   },
   "cell_type": "code",
   "source": [
    "imagesIds=labels[\"id\"].tolist()\n",
    "imagesIds = imagesIds[1:]\n",
    "feature_list = list()\n",
    "for imageId in tqdm(imagesIds):\n",
    "    feature_list.append(extractFeaturesFromImage(\"data/train/\"+imageId+\".jpg\"))\n",
    "   \n",
    "print(len(feature_list)) "
   ],
   "id": "7b66a1a9960d40f4",
   "outputs": [
    {
     "name": "stderr",
     "output_type": "stream",
     "text": [
      "100%|██████████| 12000/12000 [00:51<00:00, 233.60it/s]"
     ]
    },
    {
     "name": "stdout",
     "output_type": "stream",
     "text": [
      "12000\n"
     ]
    },
    {
     "name": "stderr",
     "output_type": "stream",
     "text": [
      "\n"
     ]
    }
   ],
   "execution_count": 5
  },
  {
   "metadata": {
    "ExecuteTime": {
     "end_time": "2024-08-25T20:20:36.058841Z",
     "start_time": "2024-08-25T20:20:36.043202Z"
    }
   },
   "cell_type": "code",
   "source": "print(len(feature_list[0]))",
   "id": "f482aa88b1a0a872",
   "outputs": [
    {
     "name": "stdout",
     "output_type": "stream",
     "text": [
      "480000\n"
     ]
    }
   ],
   "execution_count": 6
  },
  {
   "metadata": {
    "ExecuteTime": {
     "end_time": "2024-08-25T20:20:36.074833Z",
     "start_time": "2024-08-25T20:20:36.060349Z"
    }
   },
   "cell_type": "code",
   "source": "X_train, X_test, y_train, y_test = train_test_split(feature_list, label_list, test_size=0.2, random_state=12)",
   "id": "3273e4ec1e900561",
   "outputs": [],
   "execution_count": 7
  },
  {
   "metadata": {
    "ExecuteTime": {
     "end_time": "2024-08-25T20:20:36.187098Z",
     "start_time": "2024-08-25T20:20:36.074833Z"
    }
   },
   "cell_type": "code",
   "source": "from sklearn import svm",
   "id": "9869ad5c0e8969e0",
   "outputs": [],
   "execution_count": 8
  },
  {
   "metadata": {
    "jupyter": {
     "is_executing": true
    },
    "ExecuteTime": {
     "start_time": "2024-08-25T20:20:36.188885Z"
    }
   },
   "cell_type": "code",
   "source": [
    "clf = svm.SVC(gamma=0.01, C=1 ,verbose=1,max_iter=1000,)\n",
    "#模型的训练\n",
    "clf.fit(X_train, y_train);\n",
    "#模型测试"
   ],
   "id": "afa10f389553a072",
   "outputs": [],
   "execution_count": null
  },
  {
   "metadata": {
    "jupyter": {
     "is_executing": true
    }
   },
   "cell_type": "code",
   "source": [
    "#模型测试\n",
    "Ypred = clf.predict(X_test);\n",
    "\n",
    "print(\"pre\",Ypred)\n",
    "print(\"test\",y_test)"
   ],
   "id": "316f84ef36165372",
   "outputs": [],
   "execution_count": null
  }
 ],
 "metadata": {
  "kernelspec": {
   "display_name": "Python 3",
   "language": "python",
   "name": "python3"
  },
  "language_info": {
   "codemirror_mode": {
    "name": "ipython",
    "version": 2
   },
   "file_extension": ".py",
   "mimetype": "text/x-python",
   "name": "python",
   "nbconvert_exporter": "python",
   "pygments_lexer": "ipython2",
   "version": "2.7.6"
  }
 },
 "nbformat": 4,
 "nbformat_minor": 5
}
